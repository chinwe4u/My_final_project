{
 "cells": [
  {
   "cell_type": "code",
   "execution_count": 1,
   "id": "f190d684",
   "metadata": {},
   "outputs": [],
   "source": [
    "#import some initial libraries\n",
    "import pandas as pd #for data manipulation\n",
    "import numpy as np #for numeric computations\n",
    "import matplotlib.pyplot as plt #for graphs\n",
    "import datetime as dt\n",
    "import seaborn as sns\n",
    "sns.set()"
   ]
  },
  {
   "cell_type": "code",
   "execution_count": 2,
   "id": "2919a2cc",
   "metadata": {},
   "outputs": [],
   "source": [
    "#Define few features to load from our dataset into a pandas dataframe\n",
    "cols = ['account_id', 'event_time', 'event_type', 'product_id', 'additional_data']"
   ]
  },
  {
   "cell_type": "code",
   "execution_count": null,
   "id": "f4462fb1",
   "metadata": {},
   "outputs": [],
   "source": [
    "data = pd.read_csv('actions2load.csv', usecols=cols)\n",
    "data.head()"
   ]
  },
  {
   "cell_type": "code",
   "execution_count": null,
   "id": "73307589",
   "metadata": {},
   "outputs": [],
   "source": [
    "#check for data size\n",
    "data.shape"
   ]
  },
  {
   "cell_type": "code",
   "execution_count": null,
   "id": "edbd11ce",
   "metadata": {},
   "outputs": [],
   "source": [
    "#check for data completeness\n",
    "data.isnull().sum()"
   ]
  },
  {
   "cell_type": "code",
   "execution_count": null,
   "id": "5deaf28c",
   "metadata": {},
   "outputs": [],
   "source": [
    "#checking for the uniqueness of data\n",
    "data.nunique()"
   ]
  },
  {
   "cell_type": "code",
   "execution_count": null,
   "id": "534c5884",
   "metadata": {},
   "outputs": [],
   "source": [
    "data['event_type'].unique()"
   ]
  },
  {
   "cell_type": "code",
   "execution_count": null,
   "id": "c0695560",
   "metadata": {},
   "outputs": [],
   "source": [
    "data.dtypes"
   ]
  },
  {
   "cell_type": "code",
   "execution_count": null,
   "id": "44e64aa7",
   "metadata": {},
   "outputs": [],
   "source": [
    "# most common and least common event_type\n",
    "data['event_type'].value_counts().sum"
   ]
  },
  {
   "cell_type": "code",
   "execution_count": null,
   "id": "246a0043",
   "metadata": {},
   "outputs": [],
   "source": [
    "data['event_type'].value_counts().idxmax()"
   ]
  },
  {
   "cell_type": "code",
   "execution_count": null,
   "id": "e8b893a1",
   "metadata": {},
   "outputs": [],
   "source": [
    "data['event_type'].value_counts().idxmin()"
   ]
  },
  {
   "cell_type": "code",
   "execution_count": null,
   "id": "15c2e631",
   "metadata": {},
   "outputs": [],
   "source": [
    "#Account id with the higest lowest number of events\n",
    "data['account_id'].value_counts().sum"
   ]
  },
  {
   "cell_type": "code",
   "execution_count": 13,
   "id": "4fe82694",
   "metadata": {},
   "outputs": [
    {
     "data": {
      "text/plain": [
       "'6bb61e3b7bce0931da574d19d1d82c88'"
      ]
     },
     "execution_count": 13,
     "metadata": {},
     "output_type": "execute_result"
    }
   ],
   "source": [
    "data['account_id'].value_counts().idxmax()"
   ]
  },
  {
   "cell_type": "code",
   "execution_count": 14,
   "id": "c2e8c614",
   "metadata": {},
   "outputs": [
    {
     "data": {
      "text/plain": [
       "'96d5a9368c0d2c2febc62ea760a6a96c'"
      ]
     },
     "execution_count": 14,
     "metadata": {},
     "output_type": "execute_result"
    }
   ],
   "source": [
    "data['account_id'].value_counts().idxmin()"
   ]
  },
  {
   "cell_type": "code",
   "execution_count": null,
   "id": "41e4cf1d",
   "metadata": {},
   "outputs": [],
   "source": [
    "data.info()"
   ]
  },
  {
   "cell_type": "code",
   "execution_count": null,
   "id": "c188810c",
   "metadata": {},
   "outputs": [],
   "source": [
    "data['event_time'] = pd.to_datetime(data['event_time'])\n",
    "data['event_time']"
   ]
  },
  {
   "cell_type": "code",
   "execution_count": null,
   "id": "c57e33ca",
   "metadata": {},
   "outputs": [],
   "source": [
    "data.info()"
   ]
  },
  {
   "cell_type": "code",
   "execution_count": null,
   "id": "39d7fd40",
   "metadata": {},
   "outputs": [],
   "source": [
    "# create a new column day_of_the_week\n",
    "data['day_of_the_week'] = data['event_time'].dt.day_name()\n",
    "data['day_of_the_week']"
   ]
  },
  {
   "cell_type": "code",
   "execution_count": null,
   "id": "35a0f078",
   "metadata": {},
   "outputs": [],
   "source": [
    "data.head()"
   ]
  },
  {
   "cell_type": "code",
   "execution_count": null,
   "id": "cd05ad99",
   "metadata": {},
   "outputs": [],
   "source": [
    "# create a new column event_year\n",
    "data['event_year'] = data['event_time'].dt.year\n",
    "data['event_year']"
   ]
  },
  {
   "cell_type": "code",
   "execution_count": null,
   "id": "50f1ad2f",
   "metadata": {},
   "outputs": [],
   "source": [
    "# create a new column event_month\n",
    "data['event_month'] = data['event_time'].dt.month_name()\n",
    "data['event_month']"
   ]
  },
  {
   "cell_type": "code",
   "execution_count": null,
   "id": "0c89c40b",
   "metadata": {},
   "outputs": [],
   "source": [
    "# create a new column showing event time of the day\n",
    "data['event_time_of_the_day'] = data['event_time'].dt.time\n",
    "data['event_time_of_the_day']"
   ]
  },
  {
   "cell_type": "code",
   "execution_count": null,
   "id": "6a8dbc05",
   "metadata": {},
   "outputs": [],
   "source": [
    "data['event_year'].value_counts()"
   ]
  },
  {
   "cell_type": "code",
   "execution_count": null,
   "id": "bb2065cb",
   "metadata": {},
   "outputs": [],
   "source": [
    "data['day_of_the_week'].value_counts()"
   ]
  },
  {
   "cell_type": "code",
   "execution_count": null,
   "id": "ba248f25",
   "metadata": {},
   "outputs": [],
   "source": [
    "data.nunique()"
   ]
  },
  {
   "cell_type": "code",
   "execution_count": null,
   "id": "ab37caeb",
   "metadata": {},
   "outputs": [],
   "source": [
    "data['event_month'].value_counts()"
   ]
  },
  {
   "cell_type": "code",
   "execution_count": null,
   "id": "665c2ef6",
   "metadata": {},
   "outputs": [],
   "source": [
    "data['event_time_of_the_day'].value_counts()\n"
   ]
  },
  {
   "cell_type": "code",
   "execution_count": null,
   "id": "5eb89331",
   "metadata": {},
   "outputs": [],
   "source": [
    "data['day_of_the_week'].value_counts().plot.bar(figsize=(12,6))\n",
    "plt.ylabel('Number of Subcription')\n",
    "plt.xlabel('Day of the week')\n",
    "plt.title('Day of the week')"
   ]
  },
  {
   "cell_type": "code",
   "execution_count": null,
   "id": "a12b928d",
   "metadata": {},
   "outputs": [],
   "source": [
    "data['event_month'].value_counts().plot.bar(figsize=(12,6))\n",
    "plt.ylabel('Number of Subcription')\n",
    "plt.xlabel('Month of the Year')\n",
    "plt.title('Monthly Subscription')"
   ]
  },
  {
   "cell_type": "code",
   "execution_count": null,
   "id": "c60e9c04",
   "metadata": {},
   "outputs": [],
   "source": [
    "data['event_hours'] = data['event_time'].dt.hour\n",
    "data['event_hours']"
   ]
  },
  {
   "cell_type": "code",
   "execution_count": null,
   "id": "6414f364",
   "metadata": {},
   "outputs": [],
   "source": [
    "data.head()"
   ]
  },
  {
   "cell_type": "code",
   "execution_count": null,
   "id": "d47c2ddb",
   "metadata": {},
   "outputs": [],
   "source": [
    "data['event_hours'].value_counts()"
   ]
  },
  {
   "cell_type": "code",
   "execution_count": 33,
   "id": "9d928614",
   "metadata": {},
   "outputs": [],
   "source": [
    "#time period function\n",
    "\n",
    "def Timeperiod(hour):\n",
    "    if 0 < hour < 6:\n",
    "        period = 'Early hours'\n",
    "    elif 5 < hour < 12:\n",
    "        period = 'Morning'\n",
    "    elif 11 < hour < 17:\n",
    "        period = 'Afternoon'\n",
    "    elif 16 < hour < 20:\n",
    "        period = 'Evening'\n",
    "    else:\n",
    "        period = 'Night'\n",
    "    return period"
   ]
  },
  {
   "cell_type": "code",
   "execution_count": null,
   "id": "150a5958",
   "metadata": {},
   "outputs": [],
   "source": [
    "data['period of day'] = data['event_hours'].apply(Timeperiod)\n",
    "data['period of day']"
   ]
  },
  {
   "cell_type": "code",
   "execution_count": null,
   "id": "afea3332",
   "metadata": {},
   "outputs": [],
   "source": [
    "data.head()"
   ]
  },
  {
   "cell_type": "code",
   "execution_count": null,
   "id": "1c978313",
   "metadata": {},
   "outputs": [],
   "source": [
    "data['period of day'].value_counts()"
   ]
  },
  {
   "cell_type": "code",
   "execution_count": null,
   "id": "9583ecd4",
   "metadata": {},
   "outputs": [],
   "source": [
    "p_of_day = data['period of day'].value_counts().to_frame().reset_index()\n",
    "p_of_day.column = ['period of day','event time']\n",
    "p_of_day"
   ]
  },
  {
   "cell_type": "code",
   "execution_count": null,
   "id": "baa05189",
   "metadata": {},
   "outputs": [],
   "source": [
    "#plot a bar chart \n",
    "data['period of day'].value_counts().plot.bar(figsize=(12,6))\n",
    "plt.ylabel('Number of Subcription')\n",
    "plt.xlabel('period of day')\n",
    "plt.title('period of day Subscription')"
   ]
  },
  {
   "cell_type": "code",
   "execution_count": null,
   "id": "b68726cb",
   "metadata": {},
   "outputs": [],
   "source": [
    "#plot a pie chart\n",
    "plt.figure(figsize=(6,8))\n",
    "plt.pie(p_of_day['period of day'],labels=p_of_day['index'], explode= [0.0,0.0,0.0,0.0,0.3], autopct='%1.2f%%',shadow=True)\n",
    "plt.title('A Pie Chart of events by period of time')\n",
    "plt.show()"
   ]
  },
  {
   "cell_type": "code",
   "execution_count": null,
   "id": "37a4442b",
   "metadata": {},
   "outputs": [],
   "source": [
    "data.groupby('period of day')['product_id'].mean()"
   ]
  },
  {
   "cell_type": "code",
   "execution_count": null,
   "id": "f4ab282f",
   "metadata": {},
   "outputs": [],
   "source": [
    "data['account_id'].unique()"
   ]
  },
  {
   "cell_type": "code",
   "execution_count": null,
   "id": "eda64b34",
   "metadata": {},
   "outputs": [],
   "source": [
    "data['account_id'].value_counts()"
   ]
  },
  {
   "cell_type": "code",
   "execution_count": null,
   "id": "8bb787ef",
   "metadata": {},
   "outputs": [],
   "source": [
    "#account_id's and the usage during the days of the week.\n",
    "pd.crosstab(data['account_id'],data['day_of_the_week'])"
   ]
  },
  {
   "cell_type": "code",
   "execution_count": null,
   "id": "136d7372",
   "metadata": {},
   "outputs": [],
   "source": [
    "#account id and the usage during the period of the day\n",
    "pd.crosstab(data['account_id'],data['period of day'])"
   ]
  },
  {
   "cell_type": "code",
   "execution_count": null,
   "id": "517aa97f",
   "metadata": {},
   "outputs": [],
   "source": [
    "#let's quantify the percentage of missing values\n",
    "data.isnull().mean()"
   ]
  },
  {
   "cell_type": "code",
   "execution_count": null,
   "id": "500f1fe8",
   "metadata": {},
   "outputs": [],
   "source": [
    "label_freq = data['event_time'].value_counts() / len(data)\n",
    "label_freq"
   ]
  },
  {
   "cell_type": "code",
   "execution_count": null,
   "id": "1b196131",
   "metadata": {},
   "outputs": [],
   "source": [
    "data['event_time'].unique()"
   ]
  },
  {
   "cell_type": "code",
   "execution_count": null,
   "id": "919ca716",
   "metadata": {},
   "outputs": [],
   "source": [
    "#checking for outliers\n",
    "#checking for the distribution of all variables\n",
    "data.hist(figsize=(12, 10), bins=30, edgecolor='black')\n",
    "plt.subplots_adjust(hspace=0.7, wspace=0.4)"
   ]
  },
  {
   "cell_type": "code",
   "execution_count": null,
   "id": "930bd7ee",
   "metadata": {},
   "outputs": [],
   "source": [
    "data.describe()"
   ]
  },
  {
   "cell_type": "code",
   "execution_count": null,
   "id": "312936da",
   "metadata": {},
   "outputs": [],
   "source": [
    "#Boxplot to examine outliers\n",
    "sns.boxplot(y=data['product_id'])\n",
    "plt.title('Boxplot')"
   ]
  },
  {
   "cell_type": "code",
   "execution_count": null,
   "id": "6a582e8a",
   "metadata": {},
   "outputs": [],
   "source": [
    "#Boxplot to examine outliers\n",
    "sns.boxplot(y=data['event_hours'])\n",
    "plt.title('Boxplot')"
   ]
  },
  {
   "cell_type": "code",
   "execution_count": null,
   "id": "2b216e8a",
   "metadata": {},
   "outputs": [],
   "source": [
    "#Boxplot to examine outliers\n",
    "sns.boxplot(y=data['event_year'])\n",
    "plt.title('Boxplot')"
   ]
  },
  {
   "cell_type": "code",
   "execution_count": null,
   "id": "e943ce13",
   "metadata": {},
   "outputs": [],
   "source": [
    "#finding outlies\n",
    "def find_boundaries(data, variable, distance):\n",
    "    \n",
    "    IQR = data[variable].quantile(0.75) - data[variable].quantile(0.25)\n",
    "    \n",
    "    lower_boundary = data[variable].quantile(0.25) - (IQR * distance)\n",
    "    upper_boundary = data[variable].quantile(0.75) + (IQR * distance)\n",
    "    \n",
    "    return upper_boundary, lower_boundary"
   ]
  },
  {
   "cell_type": "code",
   "execution_count": null,
   "id": "c603e1e9",
   "metadata": {},
   "outputs": [],
   "source": [
    "#values below or above the upper and lower boundary by 1.5\n",
    "upper_boundary, lower_boundary = find_boundaries(data, 'event_hours', 1.5)\n",
    "upper_boundary, lower_boundary"
   ]
  },
  {
   "cell_type": "code",
   "execution_count": null,
   "id": "1c1ec2a8",
   "metadata": {},
   "outputs": [],
   "source": [
    "upper_boundary, lower_boundary = find_boundaries(data, 'product_id', 1.5)\n",
    "upper_boundary, lower_boundary"
   ]
  },
  {
   "cell_type": "code",
   "execution_count": null,
   "id": "221ed2eb",
   "metadata": {},
   "outputs": [],
   "source": [
    "#finding outliers in the dataframe\n",
    "outliers = np.where(data['event_hours'] > upper_boundary, True,\n",
    "            np.where(data['event_hours'] < lower_boundary, True, False))"
   ]
  },
  {
   "cell_type": "code",
   "execution_count": null,
   "id": "a85db2e6",
   "metadata": {},
   "outputs": [],
   "source": [
    "outliers"
   ]
  },
  {
   "cell_type": "code",
   "execution_count": null,
   "id": "99fcaf4d",
   "metadata": {},
   "outputs": [],
   "source": [
    "#creating a new dataframe with the outlier values and then display the top five rows:\n",
    "outliers_data = data.loc[outliers, 'event_hours']\n",
    "outliers_data.head()"
   ]
  },
  {
   "cell_type": "code",
   "execution_count": null,
   "id": "e8d5048e",
   "metadata": {},
   "outputs": [],
   "source": [
    "#finding outliers in the dataframe\n",
    "outliers = np.where(data['product_id'] > upper_boundary, True,\n",
    "            np.where(data['product_id'] < lower_boundary, True, False))"
   ]
  },
  {
   "cell_type": "code",
   "execution_count": null,
   "id": "8f4cea9f",
   "metadata": {},
   "outputs": [],
   "source": [
    "outliers"
   ]
  },
  {
   "cell_type": "code",
   "execution_count": null,
   "id": "cf27d0d5",
   "metadata": {},
   "outputs": [],
   "source": [
    "#creating a new dataframe with the outlier values and then display the top five rows:\n",
    "outliers_data = data.loc[outliers, 'product_id']\n",
    "outliers_data.tail(20)"
   ]
  },
  {
   "cell_type": "code",
   "execution_count": null,
   "id": "4f004ace",
   "metadata": {},
   "outputs": [],
   "source": [
    "#finding missing data\n",
    "data.info()"
   ]
  },
  {
   "cell_type": "code",
   "execution_count": 63,
   "id": "7f35b7eb",
   "metadata": {},
   "outputs": [],
   "source": [
    "#Replace the question marks(?) in the dataset\n",
    "data = data.replace('?', np.nan)"
   ]
  },
  {
   "cell_type": "code",
   "execution_count": null,
   "id": "33f3d6ab",
   "metadata": {},
   "outputs": [],
   "source": [
    "data"
   ]
  },
  {
   "cell_type": "code",
   "execution_count": null,
   "id": "52b7170d",
   "metadata": {},
   "outputs": [],
   "source": [
    "data.isnull().sum()"
   ]
  },
  {
   "cell_type": "code",
   "execution_count": null,
   "id": "26fdfafe",
   "metadata": {},
   "outputs": [],
   "source": [
    "#Correct any missing data/gaps\n",
    "data = data.dropna()"
   ]
  },
  {
   "cell_type": "code",
   "execution_count": null,
   "id": "24fb2d66",
   "metadata": {},
   "outputs": [],
   "source": [
    "data.shape"
   ]
  },
  {
   "cell_type": "code",
   "execution_count": null,
   "id": "7a100028",
   "metadata": {},
   "outputs": [],
   "source": [
    "#Removing the outliers from the dataset\n",
    "data_trimmed = data.loc[~(outliers_data)]"
   ]
  },
  {
   "cell_type": "code",
   "execution_count": null,
   "id": "5f7ddcda",
   "metadata": {},
   "outputs": [],
   "source": [
    "data.isnull().sum()"
   ]
  },
  {
   "cell_type": "code",
   "execution_count": null,
   "id": "6637d571",
   "metadata": {},
   "outputs": [],
   "source": [
    "data.info()"
   ]
  },
  {
   "cell_type": "code",
   "execution_count": null,
   "id": "a94436a9",
   "metadata": {},
   "outputs": [],
   "source": []
  }
 ],
 "metadata": {
  "kernelspec": {
   "display_name": "Python 3 (ipykernel)",
   "language": "python",
   "name": "python3"
  },
  "language_info": {
   "codemirror_mode": {
    "name": "ipython",
    "version": 3
   },
   "file_extension": ".py",
   "mimetype": "text/x-python",
   "name": "python",
   "nbconvert_exporter": "python",
   "pygments_lexer": "ipython3",
   "version": "3.9.13"
  }
 },
 "nbformat": 4,
 "nbformat_minor": 5
}
